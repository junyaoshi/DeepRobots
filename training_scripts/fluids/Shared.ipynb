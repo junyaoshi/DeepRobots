{
 "cells": [
  {
   "cell_type": "code",
   "execution_count": 1,
   "metadata": {},
   "outputs": [],
   "source": [
    "using Pkg\n",
    "using Plots\n",
    "using ViscousStreaming\n",
    "using NBInclude\n",
    "using HDF5\n",
    "using JLD2\n",
    "using Distributions\n",
    "using PyCall\n",
    "using Distances"
   ]
  },
  {
   "cell_type": "code",
   "execution_count": 2,
   "metadata": {},
   "outputs": [],
   "source": [
    "using PyCall\n",
    "\n",
    "py\"\"\"\n",
    "import random\n",
    "import numpy as np\n",
    "import collections\n",
    "import torch\n",
    "import torch.nn as nn\n",
    "import torch.nn.functional as F\n",
    "import torch.optim as optim\n",
    "import sys\n",
    "def set_seed(seed):\n",
    "    random.seed(seed)  # Set random seed for Python's random module\n",
    "    np.random.seed(seed)  # Set random seed for NumPy's random module\n",
    "    torch.manual_seed(seed)\n",
    "    torch.cuda.manual_seed_all(seed)\n",
    "\n",
    "def parameters():\n",
    "    params = dict()\n",
    "    params['seed'] = 0\n",
    "    set_seed(params['seed'])\n",
    "    params['episodes'] = 20000\n",
    "    params['episode_length'] = 40\n",
    "    params['success_rate_average_run'] = 20000\n",
    "    params['success_rate_acceptable_error_ratio'] = 0.02\n",
    "\n",
    "    params['learning_rate'] = 0.001\n",
    "    params['gamma'] = 0.95\n",
    "    params['memory_size'] = 500000\n",
    "    params['batch_size'] = 16\n",
    "    params['epsilon'] = 0.1\n",
    "    params['target_model_update_iterations'] = round(params['episode_length'] / 2)\n",
    "\n",
    "    params['first_layer_size'] = 128\n",
    "    params['second_layer_size'] = 128\n",
    "\n",
    "    params['state_size'] = 2\n",
    "    params['number_of_actions'] = 16\n",
    "    return params\n",
    "\"\"\""
   ]
  },
  {
   "cell_type": "code",
   "execution_count": 3,
   "metadata": {},
   "outputs": [
    {
     "data": {
      "text/plain": [
       "Circular body with 72 points and radius 0.2\n",
       "   Current position: (0.0,0.0)\n",
       "   Current angle (rad): 0.0\n"
      ]
     },
     "metadata": {},
     "output_type": "display_data"
    }
   ],
   "source": [
    "strdVuxy = load(\"strdVuxy_square.jld2\")[\"data\"];\n",
    "strdVvxy = load(\"strdVvxy_square.jld2\")[\"data\"];\n",
    "\n",
    "Re = 40\n",
    "ϵ = 0.1\n",
    "Ω = 1.0 # frequency (keep this equal to 1)\n",
    "Tp = 2π/Ω # one period of oscillation\n",
    "p = StreamingParams(ϵ,Re)\n",
    "#s = StreamingAnalytical(p)\n",
    "\n",
    "τ = 0.1 # Stokes number, should be small\n",
    "β = 0.95 # Density parameter. Less than 1 means heavier than fluid.\n",
    "p_inert = InertialParameters(tau=τ,beta=β,epsilon=ϵ,Re=Re)\n",
    "Ω = 1.0\n",
    "Tp = 2π/Ω\n",
    "Tmax = 50*Tp\n",
    "\n",
    "Δx = 0.02\n",
    "xlim = (-2.8,2.8)\n",
    "ylim = (-2.8,2.8)\n",
    "n = 75\n",
    "body = Circle(0.2,n)"
   ]
  },
  {
   "cell_type": "code",
   "execution_count": 4,
   "metadata": {},
   "outputs": [],
   "source": [
    "bl = BodyList()\n",
    "bL1 = deepcopy(body)\n",
    "bL2 = deepcopy(body)\n",
    "bR1 = deepcopy(body)\n",
    "bR2 = deepcopy(body)\n",
    "    \n",
    "# left 1 cylinder\n",
    "cent = (-2.0,2.0)\n",
    "α = 0.0\n",
    "TL = RigidTransform(cent,α)\n",
    "TL(bL1) # transform the body to the current configuration\n",
    "\n",
    "# left 2 cylinder\n",
    "cent = (-2.0,-2.0)\n",
    "α = 0.0\n",
    "TL = RigidTransform(cent,α)\n",
    "TL(bL2) # transform the body to the current configuration\n",
    "\n",
    "# right 1 cylinder\n",
    "cent = (2.0,2.0)\n",
    "α = 0.0\n",
    "TR = RigidTransform(cent,α)\n",
    "TR(bR1) # transform the body to the current configuration\n",
    "\n",
    "# right 2 cylinder\n",
    "cent = (2.0,-2.0)\n",
    "α = 0.0\n",
    "TR = RigidTransform(cent,α)\n",
    "TR(bR2) # transform the body to the current configuration\n",
    "\n",
    "push!(bl,bL1);\n",
    "push!(bl,bL2);\n",
    "push!(bl,bR1);\n",
    "push!(bl,bR2);"
   ]
  },
  {
   "cell_type": "code",
   "execution_count": 5,
   "metadata": {},
   "outputs": [
    {
     "data": {
      "text/plain": [
       "motion (generic function with 1 method)"
      ]
     },
     "metadata": {},
     "output_type": "display_data"
    }
   ],
   "source": [
    "function mean_motion(dR,R,p,t,v̄Luxy,v̄Lvxy)\n",
    "    dR[1] = v̄Luxy(R[1],R[2])\n",
    "    dR[2] = v̄Lvxy(R[1],R[2])\n",
    "   return dR \n",
    "end\n",
    "   \n",
    "function reset1()\n",
    "    px = rand(Uniform(-1.8,1.8))\n",
    "    py = rand(Uniform(-1.8,1.8))\n",
    "    return (px,py)\n",
    "end\n",
    "\n",
    "function motion(curstate, ampvel_ind)\n",
    "    newposx = 0\n",
    "    newposy = 0\n",
    "    done = false\n",
    "    \n",
    "    if ampvel_ind == 16\n",
    "        newposx, newposy = curstate\n",
    "    else\n",
    "        v̄Lfcn(dR,R,p,t) = mean_motion(dR,R,p,t,strdVuxy[ampvel_ind],strdVvxy[ampvel_ind])\n",
    "        solL = compute_trajectory(v̄Lfcn,curstate,Tmax,10Tp,bl=bl,ϵ=p.ϵ);\n",
    "        newposx = last(solL[1,:])\n",
    "        newposy = last(solL[2,:])\n",
    "    end\n",
    "    \n",
    "    if newposx < -1.8  || newposx > 1.8  || newposy < -1.8  || newposy > 1.8 \n",
    "        reward = -50\n",
    "        newposx,newposy = curstate\n",
    "    elseif newposx < 0.1  && newposx > -0.1  && newposy < 0.1  && newposy > -0.1\n",
    "        reward = 2 - (abs(newposx) + abs(newposy)) \n",
    "        if newposx < 0.02  && newposx > -0.02  && newposy < 0.02  && newposy > -0.02 \n",
    "            reward = 1000\n",
    "            done = true\n",
    "        end\n",
    "    else\n",
    "        reward = -1\n",
    "    end \n",
    "    return (newposx,newposy), reward, done\n",
    "end"
   ]
  }
 ],
 "metadata": {
  "kernelspec": {
   "display_name": "Julia 1.4.2",
   "language": "julia",
   "name": "julia-1.4"
  },
  "language_info": {
   "file_extension": ".jl",
   "mimetype": "application/julia",
   "name": "julia",
   "version": "1.4.2"
  },
  "orig_nbformat": 4,
  "vscode": {
   "interpreter": {
    "hash": "97fb15e6f1c3360a52148bf7d407e0a1ddfa8581bae557519443666d0ee75c56"
   }
  }
 },
 "nbformat": 4,
 "nbformat_minor": 2
}
