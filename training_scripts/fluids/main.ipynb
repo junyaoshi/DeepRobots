{
 "cells": [
  {
   "cell_type": "code",
   "execution_count": 27,
   "metadata": {
    "scrolled": true
   },
   "outputs": [],
   "source": [
    "using Pkg\n",
    "using Plots\n",
    "using ViscousStreaming\n",
    "using NBInclude\n",
    "using HDF5\n",
    "using JLD2\n",
    "using Distributions\n",
    "using PyCall\n",
    "using Distances\n",
    "using JSON"
   ]
  },
  {
   "cell_type": "code",
   "execution_count": 28,
   "metadata": {},
   "outputs": [
    {
     "data": {
      "text/plain": [
       "motion (generic function with 1 method)"
      ]
     },
     "metadata": {},
     "output_type": "display_data"
    }
   ],
   "source": [
    "@nbinclude(\"DQN.ipynb\")\n",
    "@nbinclude(\"Shared.ipynb\")"
   ]
  },
  {
   "cell_type": "code",
   "execution_count": 29,
   "metadata": {},
   "outputs": [
    {
     "data": {
      "text/plain": [
       "train (generic function with 1 method)"
      ]
     },
     "metadata": {},
     "output_type": "display_data"
    }
   ],
   "source": [
    "function train(agent)\n",
    "    for i in 1:params[\"episodes\"]\n",
    "        current_state = reset1()\n",
    "        for j in 1:params[\"episode_length\"]\n",
    "\t\t\taction = py\"int\"(agent.select_action_index(current_state, true))\n",
    "            new_state, reward, done = motion(current_state, action + 1)\n",
    "\t\t\tagent.on_new_sample(current_state, action, reward, new_state, done)\n",
    "\t\t\tagent.replay_mem(params[\"batch_size\"])\n",
    "            current_state = new_state\n",
    "            if done == true\n",
    "              break\n",
    "            end\n",
    "        end\n",
    "    end\n",
    "end"
   ]
  },
  {
   "cell_type": "code",
   "execution_count": 30,
   "metadata": {},
   "outputs": [],
   "source": [
    "#agent = py\"DQNAgent\"(params, [2,5,8,10,12,13,14,15])"
   ]
  },
  {
   "cell_type": "code",
   "execution_count": 31,
   "metadata": {},
   "outputs": [
    {
     "data": {
      "text/plain": [
       "get_success_rate (generic function with 1 method)"
      ]
     },
     "metadata": {},
     "output_type": "display_data"
    }
   ],
   "source": [
    "function get_success_rate(agent, count)\n",
    "    success_count = 0\n",
    "    for i in 1:count\n",
    "        current_state = reset1()\n",
    "        for j in 1:params[\"episode_length\"]\n",
    "            action = py\"int\"(agent.select_action_index(current_state, false))\n",
    "            current_state, reward, done = motion(current_state, action + 1)\n",
    "            if done == true\n",
    "                success_count += 1\n",
    "                break\n",
    "            end\n",
    "        end\n",
    "    end\n",
    "    return success_count / count\n",
    "end"
   ]
  },
  {
   "cell_type": "code",
   "execution_count": 32,
   "metadata": {},
   "outputs": [
    {
     "data": {
      "text/plain": [
       "sweep (generic function with 1 method)"
      ]
     },
     "metadata": {},
     "output_type": "display_data"
    }
   ],
   "source": [
    "function sweep(params, base_actions, testing_actions, process_data, process_data_prefix)\n",
    "    essential_actions = []\n",
    "    optional_actions = []\n",
    "    for testing_action in testing_actions\n",
    "        process_data_key = \"$process_data_prefix-$testing_action\"\n",
    "        if haskey(process_data, process_data_key)\n",
    "            testing_success_rate = process_data[process_data_key]\n",
    "        else\n",
    "            parts = split(process_data_prefix, \"-\")\n",
    "            reverse_data_key=\"none\"\n",
    "            if length(parts) > 1\n",
    "                reverse_data_key = join([parts[1], testing_action, parts[2]], \"-\")\n",
    "            end\n",
    "            if haskey(process_data, reverse_data_key)\n",
    "                testing_success_rate = process_data[reverse_data_key]\n",
    "            else\n",
    "                target_actions = vcat(base_actions, [x for x in testing_actions if x != testing_action])\n",
    "                testing_agent = py\"DQNAgent\"(params, target_actions)\n",
    "                train(testing_agent)\n",
    "                testing_success_rate = get_success_rate(testing_agent, params[\"success_rate_average_run\"])\n",
    "            end\n",
    "        end\n",
    "        process_data[process_data_key] = testing_success_rate\n",
    "        record_process_data(process_data)\n",
    "        write_(\"sweep - tested with $testing_action - $testing_success_rate\")\n",
    "        if testing_success_rate < success_rate * (1.0 - params[\"success_rate_acceptable_error_ratio\"])\n",
    "            push!(essential_actions, testing_action)\n",
    "        else\n",
    "            push!(optional_actions, testing_action)\n",
    "        end\n",
    "    end\n",
    "    return essential_actions, optional_actions\n",
    "end"
   ]
  },
  {
   "cell_type": "code",
   "execution_count": 33,
   "metadata": {},
   "outputs": [
    {
     "data": {
      "text/plain": [
       "record_phase (generic function with 1 method)"
      ]
     },
     "metadata": {},
     "output_type": "display_data"
    }
   ],
   "source": [
    "function record_phase(dict, phase, testing_actions, selected_actions)\n",
    "    for testing_action in testing_actions\n",
    "        dict[\"$phase-a$testing_action\"] = \"t\"\n",
    "    end\n",
    "    for selected_action in selected_actions\n",
    "        dict[\"$phase-a$selected_action\"] = \"s\"\n",
    "    end\n",
    "    dict[\"phase\"]=phase\n",
    "    json_file_path = \"result.json\"  # Change the file path as needed\n",
    "    open(json_file_path, \"w\") do file\n",
    "        JSON.print(file, dict)\n",
    "    end\n",
    "end"
   ]
  },
  {
   "cell_type": "code",
   "execution_count": 34,
   "metadata": {},
   "outputs": [
    {
     "data": {
      "text/plain": [
       "record_process_data (generic function with 1 method)"
      ]
     },
     "metadata": {},
     "output_type": "display_data"
    }
   ],
   "source": [
    "function record_process_data(dict)\n",
    "    json_file_path = \"process_data.json\"  # Change the file path as needed\n",
    "    open(json_file_path, \"w\") do file\n",
    "        JSON.print(file, dict)\n",
    "    end\n",
    "end"
   ]
  },
  {
   "cell_type": "code",
   "execution_count": 35,
   "metadata": {},
   "outputs": [
    {
     "data": {
      "text/plain": [
       "write_ (generic function with 1 method)"
      ]
     },
     "metadata": {},
     "output_type": "display_data"
    }
   ],
   "source": [
    "function write_(text)\n",
    "    open(\"debug.txt\", \"a\") do file\n",
    "        # Write the text to the file\n",
    "        println(file, text)\n",
    "    end\n",
    "end"
   ]
  },
  {
   "cell_type": "code",
   "execution_count": 36,
   "metadata": {},
   "outputs": [
    {
     "ename": "InterruptException",
     "evalue": "InterruptException:",
     "output_type": "error",
     "traceback": [
      "InterruptException:\n",
      "\n",
      "Stacktrace:\n",
      " [1] sigatomic_end at ./c.jl:425 [inlined]\n",
      " [2] disable_sigint at ./c.jl:448 [inlined]\n",
      " [3] __pycall! at /Users/minuk.lee/.julia/packages/PyCall/ilqDX/src/pyfncall.jl:42 [inlined]\n",
      " [4] _pycall!(::PyObject, ::PyObject, ::Tuple{Int64}, ::Int64, ::Ptr{Nothing}) at /Users/minuk.lee/.julia/packages/PyCall/ilqDX/src/pyfncall.jl:29\n",
      " [5] _pycall! at /Users/minuk.lee/.julia/packages/PyCall/ilqDX/src/pyfncall.jl:11 [inlined]\n",
      " [6] #_#114 at /Users/minuk.lee/.julia/packages/PyCall/ilqDX/src/pyfncall.jl:86 [inlined]\n",
      " [7] (::PyObject)(::Int64) at /Users/minuk.lee/.julia/packages/PyCall/ilqDX/src/pyfncall.jl:86\n",
      " [8] train(::PyObject) at /Users/minuk.lee/Desktop/Research-Dear/DeepRobots/training_scripts/fluids/main.ipynb:8\n",
      " [9] sweep(::Dict{Any,Any}, ::Array{Any,1}, ::Array{Int64,1}, ::Dict{String,Any}, ::String) at /Users/minuk.lee/Desktop/Research-Dear/DeepRobots/training_scripts/fluids/main.ipynb:19\n",
      " [10] top-level scope at /Users/minuk.lee/Desktop/Research-Dear/DeepRobots/training_scripts/fluids/main.ipynb:68"
     ]
    }
   ],
   "source": [
    "result = Dict()\n",
    "process_data = Dict()\n",
    "\n",
    "#phase 0\n",
    "params = py\"parameters\"()\n",
    "all_actions = collect(0:params[\"number_of_actions\"]-1)\n",
    "does_load = true\n",
    "if does_load == false\n",
    "    agent = py\"DQNAgent\"(params, all_actions)\n",
    "    train(agent)\n",
    "\n",
    "    success_rate = get_success_rate(agent, params[\"success_rate_average_run\"])\n",
    "    result[\"success_rate\"] = success_rate\n",
    "    write_(\"success_rate: $success_rate\")\n",
    "    testing_actions = copy(all_actions)\n",
    "    selected_actions = []\n",
    "    phase = 0\n",
    "end\n",
    "if does_load == true\n",
    "    selected_actions = []\n",
    "    testing_actions = []\n",
    "    result = JSON.parsefile(\"result.json\")\n",
    "    success_rate = result[\"success_rate\"]\n",
    "    for phase in 0:result[\"phase\"]\n",
    "        for action in all_actions\n",
    "            key=\"$phase-a$action\"\n",
    "            if haskey(result, key)\n",
    "                if result[key] == \"s\"\n",
    "                    if !(action in selected_actions)\n",
    "                        push!(selected_actions, action)\n",
    "                    end\n",
    "                else\n",
    "                    if phase == result[\"phase\"]\n",
    "                        push!(testing_actions, action)\n",
    "                    end\n",
    "                end\n",
    "            end\n",
    "        end\n",
    "    end\n",
    "    phase = result[\"phase\"]\n",
    "    process_data = JSON.parsefile(\"process_data.json\")\n",
    "end\n",
    "record_phase(result, phase, testing_actions, selected_actions)\n",
    "while !isempty(testing_actions)\n",
    "    global success_rate\n",
    "    global testing_actions\n",
    "    global selected_actions\n",
    "    global phase\n",
    "    write_(\"$phase - phase entered\")\n",
    "    if phase == 0\n",
    "        process_data_key_prefix = \"$phase\"\n",
    "        essential_actions, optional_actions = sweep(params, selected_actions, testing_actions, process_data, process_data_key_prefix)\n",
    "        selected_actions = vcat(selected_actions, essential_actions)\n",
    "        write_(\"essential_actions: $essential_actions\")\n",
    "        write_(\"optional_actions: $optional_actions\")\n",
    "    else\n",
    "        optional_actions = testing_actions\n",
    "    end\n",
    "    write_(\"selected_actions: $selected_actions\")\n",
    "    write_(\"optional_actions: $optional_actions\")\n",
    "\n",
    "    minimal_essential_actions = []\n",
    "    minimal_optional_actions = []\n",
    "    for optional_action in optional_actions\n",
    "        process_data_key_prefix = \"$phase-$optional_action\"\n",
    "        write_(\"optional_actions selection - testing with $optional_action\")\n",
    "        target_optional_actions = [x for x in optional_actions if x != optional_action]\n",
    "        target_essential_actions, target_optional_actions = sweep(params, selected_actions, target_optional_actions, process_data, process_data_key_prefix)\n",
    "        write_(\"selected_actions: $selected_actions\")\n",
    "        write_(\"target_essential_actions: $target_essential_actions\")\n",
    "        write_(\"target_optional_actions: $target_optional_actions\")\n",
    "        if length(minimal_essential_actions) == 0 || length(target_essential_actions) < length(minimal_essential_actions)\n",
    "            minimal_essential_actions = copy(target_essential_actions)\n",
    "            minimal_optional_actions = copy(target_optional_actions)\n",
    "\n",
    "            if length(minimal_essential_actions) == 0\n",
    "                break\n",
    "            end\n",
    "        end\n",
    "        if length(target_optional_actions) == 0\n",
    "            minimal_essential_actions = [optional_action]\n",
    "            minimal_optional_actions = copy(target_essential_actions)\n",
    "            break\n",
    "        end\n",
    "    end\n",
    "\n",
    "    selected_actions = vcat(selected_actions, minimal_essential_actions)\n",
    "    testing_actions = minimal_optional_actions\n",
    "    write_(\"selected_actions: $selected_actions\")\n",
    "    write_(\"testing_actions: $testing_actions\")\n",
    "    phase += 1\n",
    "    record_phase(result, phase, testing_actions, selected_actions)\n",
    "\n",
    "    if length(testing_actions) == 1\n",
    "        testing_actions = []\n",
    "        phase += 1\n",
    "        record_phase(result, phase, testing_actions, selected_actions)\n",
    "    end\n",
    "end"
   ]
  }
 ],
 "metadata": {
  "celltoolbar": "Raw Cell Format",
  "kernelspec": {
   "display_name": "Julia 1.4.2",
   "language": "julia",
   "name": "julia-1.4"
  },
  "language_info": {
   "file_extension": ".jl",
   "mimetype": "application/julia",
   "name": "julia",
   "version": "1.4.2"
  },
  "vscode": {
   "interpreter": {
    "hash": "74c985576febad9c02451890f55f9d3ea5a9d06b9bc1a54d835a791195e52286"
   }
  }
 },
 "nbformat": 4,
 "nbformat_minor": 2
}
